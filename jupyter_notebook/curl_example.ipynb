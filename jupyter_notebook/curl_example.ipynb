{
 "cells": [
  {
   "cell_type": "markdown",
   "id": "154204d9",
   "metadata": {},
   "source": [
    "# CURL"
   ]
  },
  {
   "cell_type": "markdown",
   "id": "5e314f15",
   "metadata": {},
   "source": [
    "### Download using CURL"
   ]
  },
  {
   "cell_type": "markdown",
   "id": "54b75089",
   "metadata": {},
   "source": [
    "### Download file with default file name use `-O`"
   ]
  },
  {
   "cell_type": "markdown",
   "id": "ff840684",
   "metadata": {},
   "source": [
    "### To download file from github must use `-L` "
   ]
  },
  {
   "cell_type": "code",
   "execution_count": null,
   "id": "6fe8a65e",
   "metadata": {},
   "outputs": [],
   "source": [
    "# Download any file from url\n",
    "# mostly used for donwload datasets\n",
    "# To download file from github must use `-L` \n",
    "!curl -L -O https://github.com/arnab-kundu/python/raw/main/data/developer_survey_2019.zip "
   ]
  },
  {
   "cell_type": "markdown",
   "id": "fa9c66dd",
   "metadata": {},
   "source": [
    "### Change downloaded file name using `-o <filename>`"
   ]
  },
  {
   "cell_type": "code",
   "execution_count": null,
   "id": "f6d92e5c",
   "metadata": {},
   "outputs": [],
   "source": [
    "!curl -L -o developer_survey_2019(1).zip  https://github.com/arnab-kundu/python/raw/main/data/developer_survey_2019.zip "
   ]
  }
 ],
 "metadata": {
  "kernelspec": {
   "display_name": "Python 3",
   "language": "python",
   "name": "python3"
  },
  "language_info": {
   "codemirror_mode": {
    "name": "ipython",
    "version": 3
   },
   "file_extension": ".py",
   "mimetype": "text/x-python",
   "name": "python",
   "nbconvert_exporter": "python",
   "pygments_lexer": "ipython3",
   "version": "3.9.5"
  }
 },
 "nbformat": 4,
 "nbformat_minor": 5
}
