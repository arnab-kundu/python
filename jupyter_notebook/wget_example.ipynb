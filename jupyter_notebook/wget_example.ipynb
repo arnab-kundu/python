{
 "cells": [
  {
   "cell_type": "markdown",
   "id": "154204d9",
   "metadata": {},
   "source": [
    "# WGET\n",
    "WGET used for donwload datasets from url"
   ]
  },
  {
   "cell_type": "markdown",
   "id": "7a9c91e5",
   "metadata": {},
   "source": [
    "### Installation"
   ]
  },
  {
   "cell_type": "code",
   "execution_count": null,
   "id": "7f88b9bb",
   "metadata": {},
   "outputs": [],
   "source": [
    "!pip install wget"
   ]
  },
  {
   "cell_type": "markdown",
   "id": "5e314f15",
   "metadata": {},
   "source": [
    "### Download using WGET"
   ]
  },
  {
   "cell_type": "code",
   "execution_count": null,
   "id": "6fe8a65e",
   "metadata": {},
   "outputs": [],
   "source": [
    "import wget\n",
    "url = 'https://github.com/arnab-kundu/python/raw/main/data/developer_survey_2019.zip'\n",
    "filename = wget.download(url)"
   ]
  },
  {
   "cell_type": "markdown",
   "id": "aed68824",
   "metadata": {},
   "source": [
    "### Single line code to donwload"
   ]
  },
  {
   "cell_type": "code",
   "execution_count": null,
   "id": "1cc5c158",
   "metadata": {},
   "outputs": [],
   "source": [
    "wget.download('https://github.com/arnab-kundu/python/raw/main/data/developer_survey_2019.zip')"
   ]
  }
 ],
 "metadata": {
  "kernelspec": {
   "display_name": "Python 3",
   "language": "python",
   "name": "python3"
  },
  "language_info": {
   "codemirror_mode": {
    "name": "ipython",
    "version": 3
   },
   "file_extension": ".py",
   "mimetype": "text/x-python",
   "name": "python",
   "nbconvert_exporter": "python",
   "pygments_lexer": "ipython3",
   "version": "3.9.5"
  }
 },
 "nbformat": 4,
 "nbformat_minor": 5
}
